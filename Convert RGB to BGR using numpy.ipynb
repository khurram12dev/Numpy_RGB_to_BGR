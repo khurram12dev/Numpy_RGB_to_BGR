{
 "cells": [
  {
   "cell_type": "code",
   "execution_count": 1,
   "id": "0f39f641",
   "metadata": {},
   "outputs": [],
   "source": [
    "import numpy as np\n",
    "from PIL import Image"
   ]
  },
  {
   "cell_type": "code",
   "execution_count": 2,
   "id": "47c041a7",
   "metadata": {},
   "outputs": [],
   "source": [
    "image = Image.open('images/dog.jpeg')"
   ]
  },
  {
   "cell_type": "code",
   "execution_count": 3,
   "id": "3fead82e",
   "metadata": {},
   "outputs": [],
   "source": [
    "img_arr = np.array(image)"
   ]
  },
  {
   "cell_type": "code",
   "execution_count": 4,
   "id": "c5628f99",
   "metadata": {},
   "outputs": [],
   "source": [
    "bgr_img = np.copy(img_arr)"
   ]
  },
  {
   "cell_type": "markdown",
   "id": "40d9e6d9",
   "metadata": {},
   "source": [
    "# Swap the red and blue color channels"
   ]
  },
  {
   "cell_type": "code",
   "execution_count": 5,
   "id": "769a7aef",
   "metadata": {},
   "outputs": [],
   "source": [
    "bgr_img[:, :, 0] = bgr_img[:, :, 2] #Blue channel\n",
    "bgr_img[:, :, 2] = bgr_img[:, :, 0] #Red channel"
   ]
  },
  {
   "cell_type": "code",
   "execution_count": 6,
   "id": "b1627c6e",
   "metadata": {},
   "outputs": [],
   "source": [
    "import cv2"
   ]
  },
  {
   "cell_type": "code",
   "execution_count": 7,
   "id": "c3e00dc4",
   "metadata": {},
   "outputs": [
    {
     "data": {
      "text/plain": [
       "True"
      ]
     },
     "execution_count": 7,
     "metadata": {},
     "output_type": "execute_result"
    }
   ],
   "source": [
    "cv2.imwrite('output_bgr_image.jpeg', bgr_img)"
   ]
  },
  {
   "cell_type": "code",
   "execution_count": 8,
   "id": "f2ae97fc",
   "metadata": {},
   "outputs": [],
   "source": [
    "cv2.imshow('window', bgr_img)"
   ]
  }
 ],
 "metadata": {
  "kernelspec": {
   "display_name": "Python 3 (ipykernel)",
   "language": "python",
   "name": "python3"
  },
  "language_info": {
   "codemirror_mode": {
    "name": "ipython",
    "version": 3
   },
   "file_extension": ".py",
   "mimetype": "text/x-python",
   "name": "python",
   "nbconvert_exporter": "python",
   "pygments_lexer": "ipython3",
   "version": "3.11.4"
  }
 },
 "nbformat": 4,
 "nbformat_minor": 5
}
